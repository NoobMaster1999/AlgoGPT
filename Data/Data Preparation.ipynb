{
 "cells": [
  {
   "cell_type": "code",
   "execution_count": null,
   "id": "6ecd3677-1338-4123-aed7-d702796c31f0",
   "metadata": {},
   "outputs": [],
   "source": [
    "# Import required libraries"
   ]
  },
  {
   "cell_type": "code",
   "execution_count": null,
   "id": "b42c0e76-e7d3-4321-9601-8bc631af5a31",
   "metadata": {},
   "outputs": [],
   "source": [
    "import pandas as pd\n",
    "import json\n",
    "from sklearn.ensemble import RandomForestClassifier\n",
    "from sklearn.model_selection import train_test_split\n",
    "from sklearn.metrics import accuracy_score\n",
    "import numpy as np\n",
    "import matplotlib.pyplot as plt\n",
    "import datetime"
   ]
  },
  {
   "cell_type": "code",
   "execution_count": null,
   "id": "d68d6dfa-1b8b-405c-a08f-170522b1a339",
   "metadata": {},
   "outputs": [],
   "source": [
    "# Data  Conversion"
   ]
  },
  {
   "cell_type": "code",
   "execution_count": null,
   "id": "41a678a6-946f-43ba-81db-7e1ac8b3a2f8",
   "metadata": {},
   "outputs": [],
   "source": [
    "# Convert to pandas DataFrame\n",
    "candles = market_data['data']['candles']\n",
    "columns = ['datetime', 'open', 'high', 'low', 'close', 'volume', 'unknown']\n",
    "df = pd.DataFrame(candles, columns=columns)\n",
    "\n",
    "# Convert datetime to pandas datetime format\n",
    "df['datetime'] = pd.to_datetime(df['datetime'])\n",
    "df.set_index('datetime', inplace=True)\n",
    "\n",
    "# Display the DataFrame\n",
    "df.head(5)"
   ]
  },
  {
   "cell_type": "code",
   "execution_count": null,
   "id": "e7ce728a-488b-4e23-92a0-68d5907f77fe",
   "metadata": {},
   "outputs": [],
   "source": [
    "print(df)"
   ]
  },
  {
   "cell_type": "markdown",
   "id": "f3ae7074-8ca5-492b-a09b-34c288ea0d84",
   "metadata": {},
   "source": [
    "                              open     high      low    close  volume  unknown\n",
    "datetime                                                                      \n",
    "2024-06-20 15:29:00+05:30  2948.50  2949.75  2945.35  2949.00    8700        0\n",
    "2024-06-20 15:28:00+05:30  2948.95  2951.95  2948.00  2948.35   46915        0\n",
    "2024-06-20 15:27:00+05:30  2947.90  2949.75  2947.75  2948.95   20163        0\n",
    "2024-06-20 15:26:00+05:30  2949.85  2950.00  2947.90  2947.90   38635        0\n",
    "2024-06-20 15:25:00+05:30  2949.75  2949.95  2949.65  2949.80   25195        0\n",
    "...                            ...      ...      ...      ...     ...      ...\n",
    "2024-06-10 09:19:00+05:30  2959.10  2963.95  2956.75  2960.45   40876        0\n",
    "2024-06-10 09:18:00+05:30  2954.75  2960.00  2953.50  2959.20   46793        0\n",
    "2024-06-10 09:17:00+05:30  2957.30  2958.00  2952.40  2954.25   52583        0\n",
    "2024-06-10 09:16:00+05:30  2955.60  2959.00  2953.00  2957.35   93948        0\n",
    "2024-06-10 09:15:00+05:30  2939.90  2955.90  2936.15  2953.80   82300        0\n",
    "\n",
    "[3000 rows x 6 columns]"
   ]
  }
 ],
 "metadata": {
  "kernelspec": {
   "display_name": "Python 3 (ipykernel)",
   "language": "python",
   "name": "python3"
  },
  "language_info": {
   "codemirror_mode": {
    "name": "ipython",
    "version": 3
   },
   "file_extension": ".py",
   "mimetype": "text/x-python",
   "name": "python",
   "nbconvert_exporter": "python",
   "pygments_lexer": "ipython3",
   "version": "3.12.3"
  }
 },
 "nbformat": 4,
 "nbformat_minor": 5
}
