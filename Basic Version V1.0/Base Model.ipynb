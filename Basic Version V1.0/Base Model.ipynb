{
 "cells": [
  {
   "cell_type": "code",
   "execution_count": 1,
   "id": "f1fbc4b4-9e47-46a7-9743-d61081e962a2",
   "metadata": {},
   "outputs": [],
   "source": [
    "# algo_trading.py  python library dependencies"
   ]
  },
  {
   "cell_type": "code",
   "execution_count": 2,
   "id": "82eee470-6286-4bbe-9076-803a72c23b20",
   "metadata": {},
   "outputs": [],
   "source": [
    "import yfinance as yf\n",
    "import pandas as pd\n",
    "from sklearn.ensemble import RandomForestClassifier\n",
    "from sklearn.model_selection import train_test_split\n",
    "from sklearn.metrics import accuracy_score\n",
    "import numpy as np\n",
    "import alpaca_trade_api as tradeapi\n",
    "import time\n",
    "import matplotlib.pyplot as plt"
   ]
  },
  {
   "cell_type": "code",
   "execution_count": 3,
   "id": "ccbbd30e-cc7d-4648-af40-58906336d459",
   "metadata": {},
   "outputs": [],
   "source": [
    "# Step 1: Data Collection"
   ]
  },
  {
   "cell_type": "code",
   "execution_count": 4,
   "id": "1f475c20-e765-46d3-81fd-9a20fdc087ba",
   "metadata": {},
   "outputs": [],
   "source": [
    "def get_stock_data(ticker, start_date, end_date):\n",
    "    data = yf.download(ticker, start=start_date, end=end_date)\n",
    "    return data"
   ]
  },
  {
   "cell_type": "code",
   "execution_count": 5,
   "id": "2bd2c245-bb0b-4f85-a375-440cc22adfb5",
   "metadata": {},
   "outputs": [],
   "source": [
    "# Step 2: Data Preprocessing"
   ]
  },
  {
   "cell_type": "code",
   "execution_count": 6,
   "id": "1683d163-d2c8-4c94-8f30-54a4f2db7cd4",
   "metadata": {},
   "outputs": [],
   "source": [
    "def preprocess_data(data):\n",
    "    data = data.dropna()\n",
    "    return data"
   ]
  },
  {
   "cell_type": "code",
   "execution_count": 7,
   "id": "0438a00c-7bf7-4724-94b7-080a4229bb8e",
   "metadata": {},
   "outputs": [],
   "source": [
    "# Step 3: Feature Engineering"
   ]
  },
  {
   "cell_type": "code",
   "execution_count": 8,
   "id": "21f1a5c6-2f5c-47c0-9c3f-0be15a9a8731",
   "metadata": {},
   "outputs": [],
   "source": [
    "def create_features(data):\n",
    "    # Moving Averages\n",
    "    data['SMA_50'] = data['Close'].rolling(window=50).mean()\n",
    "    data['SMA_200'] = data['Close'].rolling(window=200).mean()\n",
    "    \n",
    "    # RSI\n",
    "    data['RSI'] = compute_rsi(data['Close'])\n",
    "    \n",
    "    # Price Change\n",
    "    data['Price_Change'] = data['Close'].pct_change()\n",
    "    \n",
    "    # Candlestick Patterns (Price Action)\n",
    "    data['Bullish_Engulfing'] = bullish_engulfing(data)\n",
    "    data['Bearish_Engulfing'] = bearish_engulfing(data)\n",
    "    \n",
    "    # Day Low Strategy\n",
    "    data['Near_Day_Low'] = (data['Close'] - data['Low']) / (data['High'] - data['Low'])\n",
    "    \n",
    "    # Future Close Price for Labels\n",
    "    data['Future_Close'] = data['Close'].shift(-1)\n",
    "    \n",
    "    data = data.dropna()\n",
    "    return data\n",
    "\n",
    "def compute_rsi(series, window=14):\n",
    "    delta = series.diff()\n",
    "    gain = (delta.where(delta > 0, 0)).rolling(window=window).mean()\n",
    "    loss = (-delta.where(delta < 0, 0)).rolling(window=window).mean()\n",
    "    RS = gain / loss\n",
    "    return 100 - (100 / (1 + RS))\n",
    "\n",
    "def bullish_engulfing(data):\n",
    "    pattern = ((data['Close'] > data['Open']) & \n",
    "               (data['Close'].shift(1) < data['Open'].shift(1)) & \n",
    "               (data['Close'] > data['Open'].shift(1)) & \n",
    "               (data['Open'] < data['Close'].shift(1)))\n",
    "    return pattern.astype(int)\n",
    "\n",
    "def bearish_engulfing(data):\n",
    "    pattern = ((data['Close'] < data['Open']) & \n",
    "               (data['Close'].shift(1) > data['Open'].shift(1)) & \n",
    "               (data['Close'] < data['Open'].shift(1)) & \n",
    "               (data['Open'] > data['Close'].shift(1)))\n",
    "    return pattern.astype(int)"
   ]
  },
  {
   "cell_type": "code",
   "execution_count": 9,
   "id": "93a126ec-97bd-4334-b820-21083359249a",
   "metadata": {},
   "outputs": [],
   "source": [
    "# Step 4: Model Building"
   ]
  },
  {
   "cell_type": "code",
   "execution_count": 10,
   "id": "319e8b3f-5db7-4009-8413-3bbb03a40131",
   "metadata": {},
   "outputs": [],
   "source": [
    "def build_model(data):\n",
    "    features = ['SMA_50', 'SMA_200', 'RSI', 'Price_Change', \n",
    "                'Bullish_Engulfing', 'Bearish_Engulfing', 'Near_Day_Low']\n",
    "    X = data[features]\n",
    "    y = np.where(data['Future_Close'] > data['Close'], 1, 0)\n",
    "    X_train, X_test, y_train, y_test = train_test_split(X, y, test_size=0.2, random_state=42)\n",
    "    model = RandomForestClassifier(n_estimators=100, random_state=42)\n",
    "    model.fit(X_train, y_train)\n",
    "    y_pred = model.predict(X_test)\n",
    "    accuracy = accuracy_score(y_test, y_pred)\n",
    "    print(f'Model Accuracy: {accuracy:.2f}')\n",
    "    return model"
   ]
  },
  {
   "cell_type": "code",
   "execution_count": 11,
   "id": "ffab2560-982c-4d81-b9cc-067e1e2c5825",
   "metadata": {},
   "outputs": [],
   "source": [
    "# Step 5: Backtesting"
   ]
  },
  {
   "cell_type": "code",
   "execution_count": 12,
   "id": "bad92b03-252a-4386-bd8d-45dccaccf90e",
   "metadata": {},
   "outputs": [],
   "source": [
    "def backtest_strategy(model, data):\n",
    "    features = ['SMA_50', 'SMA_200', 'RSI', 'Price_Change', \n",
    "                'Bullish_Engulfing', 'Bearish_Engulfing', 'Near_Day_Low']\n",
    "    data['Pred_Signal'] = model.predict(data[features])\n",
    "    data['Strategy_Returns'] = data['Pred_Signal'] * data['Price_Change'].shift(-1)\n",
    "    data['Cumulative_Strategy_Returns'] = (data['Strategy_Returns'] + 1).cumprod()\n",
    "    return data"
   ]
  },
  {
   "cell_type": "code",
   "execution_count": 13,
   "id": "78ab64d7-1e10-438f-a5da-a5370cde9fe9",
   "metadata": {},
   "outputs": [],
   "source": [
    "# Step 6: Integration with Broker"
   ]
  },
  {
   "cell_type": "markdown",
   "id": "1b6c20d7-dae4-4734-a361-4983070fd556",
   "metadata": {},
   "source": [
    "def place_order(api, symbol, qty, side):\n",
    "    try:\n",
    "        order = api.submit_order(\n",
    "            symbol=symbol,\n",
    "            qty=qty,\n",
    "            side=side,\n",
    "            type='market',\n",
    "            time_in_force='gtc'\n",
    "        )\n",
    "        print(f\"Order placed: {order}\")\n",
    "    except Exception as e:\n",
    "        print(f\"Error placing order: {e}\")\n",
    "\n",
    "def connect_broker(api_key, api_secret, base_url):\n",
    "    api = tradeapi.REST(api_key, api_secret, base_url, api_version='v2')\n",
    "    return api"
   ]
  },
  {
   "cell_type": "code",
   "execution_count": 14,
   "id": "24cd82ac-4ca2-4a27-82b9-08d8654a1ecd",
   "metadata": {},
   "outputs": [],
   "source": [
    "# Step 7: Running the Model"
   ]
  },
  {
   "cell_type": "code",
   "execution_count": 15,
   "id": "a4ebd6ce-07ce-4f0f-b6b0-0229fba6c4b4",
   "metadata": {},
   "outputs": [
    {
     "name": "stderr",
     "output_type": "stream",
     "text": [
      "[*********************100%%**********************]  1 of 1 completed\n"
     ]
    },
    {
     "name": "stdout",
     "output_type": "stream",
     "text": [
      "Model Accuracy: 0.43\n"
     ]
    },
    {
     "data": {
      "image/png": "[encoded data removed]",
      "text/plain": [
       "<Figure size 1200x600 with 1 Axes>"
      ]
     },
     "metadata": {},
     "output_type": "display_data"
    }
   ],
   "source": [
    "def main():\n",
    "    ticker = 'AAPL'\n",
    "    start_date = '2020-01-01'\n",
    "    end_date = '2024-05-31'\n",
    "\n",
    "    data = get_stock_data(ticker, start_date, end_date)\n",
    "    data = preprocess_data(data)\n",
    "    data = create_features(data)\n",
    "    model = build_model(data)\n",
    "    data = backtest_strategy(model, data)\n",
    "\n",
    "    # Plot the cumulative returns\n",
    "    plt.figure(figsize=(12, 6))\n",
    "    plt.plot(data['Cumulative_Strategy_Returns'], label='Strategy Returns')\n",
    "    plt.plot((data['Close'] / data['Close'].iloc[0]), label='Buy and Hold Returns')\n",
    "    plt.legend()\n",
    "    plt.show()\n",
    "\n",
    "if __name__ == \"__main__\":\n",
    "    main()"
   ]
  },
  {
   "cell_type": "code",
   "execution_count": null,
   "id": "dfa3a4d9-1d1c-4c92-9bf5-6b6a431984f3",
   "metadata": {},
   "outputs": [],
   "source": []
  }
 ],
 "metadata": {
  "kernelspec": {
   "display_name": "Python 3 (ipykernel)",
   "language": "python",
   "name": "python3"
  },
  "language_info": {
   "codemirror_mode": {
    "name": "ipython",
    "version": 3
   },
   "file_extension": ".py",
   "mimetype": "text/x-python",
   "name": "python",
   "nbconvert_exporter": "python",
   "pygments_lexer": "ipython3",
   "version": "3.12.3"
  }
 },
 "nbformat": 4,
 "nbformat_minor": 5
}
