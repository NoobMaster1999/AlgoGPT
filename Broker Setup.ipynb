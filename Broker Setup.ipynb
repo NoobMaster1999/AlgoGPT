{
 "cells": [
  {
   "cell_type": "code",
   "execution_count": null,
   "id": "3f1f67c8-c17d-4411-a2be-38edc1e78b33",
   "metadata": {},
   "outputs": [],
   "source": [
    "# First you have to get your broker API\n",
    "#Example: https://www.youtube.com/watch?v=w_sb_AWCw70 ( for reference)\n",
    "# Not sponsered by Upstox just I use for my reference"
   ]
  },
  {
   "cell_type": "code",
   "execution_count": null,
   "id": "f6e841b1-adb7-48f5-88ac-f70b0a3a9277",
   "metadata": {},
   "outputs": [],
   "source": [
    "api_key = 'Your API Key'\n",
    "redirect_uri = 'Your Redirect link'\n",
    "state = 'Your Reference key as state' #for more details visit : https://upstox.com/developer/api-documentation/authentication/\n",
    "\n",
    "login_url = f\"https://api.upstox.com/v2/login/authorization/dialog?response_type=code&client_id={api_key}&redirect_uri={redirect_uri}&state={state}\"\n",
    "\n",
    "print(login_url)"
   ]
  },
  {
   "cell_type": "code",
   "execution_count": null,
   "id": "0b6d2f89-ee23-475e-9f73-bd1d248feec9",
   "metadata": {},
   "outputs": [],
   "source": [
    "# Output : https://api.upstox.com/v2/login/authorization/dialog?response_type=code&client_id=Your API Key&redirect_uri=redirect_uri&state=Your Reference key as state\n",
    "# Similar type"
   ]
  },
  {
   "cell_type": "code",
   "execution_count": null,
   "id": "6b65c63e-a8ee-4667-bd34-6a39adceff9b",
   "metadata": {},
   "outputs": [],
   "source": [
    "# Validation"
   ]
  },
  {
   "cell_type": "code",
   "execution_count": null,
   "id": "89e5f516-9609-4472-a260-6134c23ae35e",
   "metadata": {},
   "outputs": [],
   "source": [
    "import requests\n",
    "\n",
    "url = 'https://api.upstox.com/v2/login/authorization/token'\n",
    "headers = {\n",
    "    'accept': 'application/json',\n",
    "    'Content-Type': 'application/x-www-form-urlencoded',\n",
    "}\n",
    "data = {\n",
    "    'code': 'Your Prefer Code', # Visit: https://youtu.be/w_sb_AWCw70?t=530&si=StmJMq2_ZdXo6GAe\n",
    "    'client_id': 'Your API Key', \n",
    "    'client_secret': 'Your Reference key as state',\n",
    "    'redirect_uri': 'Your Redirect link',\n",
    "    'grant_type': 'authorization_code' # No changes required according it's just a variable\n",
    "}\n",
    "\n",
    "response = requests.post(url, headers=headers, data=data)\n",
    "print(response.json())\n"
   ]
  },
  {
   "cell_type": "code",
   "execution_count": null,
   "id": "40200a73-f0aa-41be-93ed-c13707eee2b7",
   "metadata": {},
   "outputs": [],
   "source": [
    "# Output Similar to this"
   ]
  },
  {
   "cell_type": "markdown",
   "id": "c1381741-37e9-4d0d-b8c8-20210aaa5476",
   "metadata": {},
   "source": [
    "{'email': 'xxxxxx@gmail.com', 'exchanges': ['BSE', 'CDS', 'NSE', 'NFO', 'BFO', 'BCD'], 'products': ['OCO', 'D', 'CO', 'I'], 'broker': 'UPSTOX', 'user_id': 'XXXX', 'user_name': 'SOUMEN BASAK', 'order_types': ['MARKET', 'LIMIT', 'SL', 'SL-M'], 'user_type': 'individual', 'poa': False, 'is_active': True, 'access_token': 'XXXXXXXXXXXXXXXXXX', 'extended_token': None}"
   ]
  },
  {
   "cell_type": "code",
   "execution_count": null,
   "id": "46a56ad6-4669-4efb-81ca-5428c34d2043",
   "metadata": {},
   "outputs": [],
   "source": [
    "# Access Token\n",
    "# It will expire with Every Login Due to Security reasons set-up by SEBI"
   ]
  },
  {
   "cell_type": "code",
   "execution_count": null,
   "id": "ffbca134-a469-4fc9-9745-73acdbb88873",
   "metadata": {},
   "outputs": [],
   "source": [
    "import requests\n",
    "\n",
    "# Define the URL\n",
    "url = 'https://api.upstox.com/v2/historical-candle/NSE_EQ%7CINE002A01018/1minute/2024-06-20' # According Whatever data you required. For more information :\"https://upstox.com/developer/api-documentation/get-historical-candle-data\"\n",
    "\n",
    "# Define the headers\n",
    "headers = {\n",
    "    'Accept': 'application/json',\n",
    "    'Authorization': 'Bearer XXXXXXXXXXXXXXXXXX' #Replace XX by your original token\n",
    "}\n",
    "\n",
    "\n",
    "# Make the GET request\n",
    "response = requests.get(url, headers=headers)\n",
    "\n",
    "# Print the JSON response\n",
    "\n",
    "if response.status_code == 200:\n",
    "    market_data = response.json()\n",
    "else:\n",
    "    print(f\"Error: {response.status_code}\")\n",
    "    market_data = None"
   ]
  },
  {
   "cell_type": "code",
   "execution_count": null,
   "id": "1e938674-8418-4b3a-8ab7-1c54c5f386d0",
   "metadata": {},
   "outputs": [],
   "source": [
    "# Output Similar to this"
   ]
  },
  {
   "cell_type": "markdown",
   "id": "b22310b0-cb59-4119-a2db-af5acddb67a8",
   "metadata": {},
   "source": [
    "{'status': 'success', 'data': {'email': 'bXXXXXX@gmail.com', 'exchanges': ['BSE', 'CDS', 'NSE', 'NFO', 'BFO', 'BCD'], 'products': ['OCO', 'D', 'CO', 'I'], 'broker': 'UPSTOX', 'user_id': 'XXXXXX', 'user_name': 'SOUMEN BASAK', 'order_types': ['MARKET', 'LIMIT', 'SL', 'SL-M'], 'user_type': 'individual', 'poa': False, 'is_active': True}}"
   ]
  }
 ],
 "metadata": {
  "kernelspec": {
   "display_name": "Python 3 (ipykernel)",
   "language": "python",
   "name": "python3"
  },
  "language_info": {
   "codemirror_mode": {
    "name": "ipython",
    "version": 3
   },
   "file_extension": ".py",
   "mimetype": "text/x-python",
   "name": "python",
   "nbconvert_exporter": "python",
   "pygments_lexer": "ipython3",
   "version": "3.12.3"
  }
 },
 "nbformat": 4,
 "nbformat_minor": 5
}
